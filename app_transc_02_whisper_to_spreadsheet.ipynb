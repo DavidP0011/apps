{
  "cells": [
    {
      "cell_type": "markdown",
      "metadata": {
        "id": "view-in-github",
        "colab_type": "text"
      },
      "source": [
        "<a href=\"https://colab.research.google.com/github/DavidP0011/apps/blob/main/app_transc_02_whisper_to_spreadsheet.ipynb\" target=\"_parent\"><img src=\"https://colab.research.google.com/assets/colab-badge.svg\" alt=\"Open In Colab\"/></a>"
      ]
    },
    {
      "cell_type": "markdown",
      "source": [
        "# INICIALIZACIÓN"
      ],
      "metadata": {
        "id": "nxXmQcqu9E_1"
      }
    },
    {
      "cell_type": "code",
      "source": [
        "# @title dpm_ini_utils.py (GitHub)\n",
        "\n",
        "import os         # Para operaciones del sistema y manejo de rutas.\n",
        "import sys        # Para interactuar con el sistema, en particular con sys.path.\n",
        "import importlib  # Para realizar importaciones dinámicas.\n",
        "import tempfile   # Para crear archivos temporales.\n",
        "import requests   # Para realizar peticiones HTTP y descargar el módulo.\n",
        "\n",
        "# URL raw del módulo en GitHub (debe incluir las funciones ini_load_dpm_libs, ini_environment_identification e ini_google_drive_instalation)\n",
        "github_url = \"https://raw.githubusercontent.com/DavidP0011/utils/main/dpm_ini_utils.py\"\n",
        "\n",
        "# Solicitar la descarga sin utilizar caché, para asegurar que se obtiene la versión actualizada.\n",
        "headers = {\"Cache-Control\": \"no-cache\", \"Pragma\": \"no-cache\"}\n",
        "response = requests.get(github_url, headers=headers)\n",
        "if response.status_code != 200:\n",
        "    raise Exception(f\"Error al descargar el módulo desde GitHub. Código: {response.status_code}\")\n",
        "\n",
        "# Guardar el contenido descargado en un archivo temporal.\n",
        "temp_dir = tempfile.gettempdir()\n",
        "module_path = os.path.join(temp_dir, \"dpm_ini_utils.py\")\n",
        "with open(module_path, \"wb\") as f:\n",
        "    f.write(response.content)\n",
        "\n",
        "# Agregar el directorio temporal a sys.path si aún no está incluido, para permitir la importación.\n",
        "if temp_dir not in sys.path:\n",
        "    sys.path.insert(0, temp_dir)\n",
        "\n",
        "# Invalidar cachés y eliminar versiones previas del módulo para forzar la recarga.\n",
        "importlib.invalidate_caches()\n",
        "module_name = \"dpm_ini_utils\"\n",
        "if module_name in sys.modules:\n",
        "    del sys.modules[module_name]\n",
        "\n",
        "# Importar y recargar el módulo.\n",
        "module = importlib.import_module(module_name)\n",
        "module = importlib.reload(module)\n",
        "\n",
        "# Intentar importar las funciones deseadas desde el módulo.\n",
        "ini_install_libraries = getattr(module, \"ini_install_libraries\", None)\n",
        "ini_load_dpm_libs = getattr(module, \"ini_load_dpm_libs\", None)\n",
        "ini_environment_identification = getattr(module, \"ini_environment_identification\", None)\n",
        "ini_google_drive_instalation = getattr(module, \"ini_google_drive_instalation\", None)\n",
        "\n",
        "# Verificar que las funciones se hayan importado correctamente.\n",
        "if ini_install_libraries is None:\n",
        "    print(\"La función ini_install_libraries no se encontró en el módulo.\")\n",
        "else:\n",
        "    print(\"Función ini_install_libraries cargada correctamente.\")\n",
        "\n",
        "if ini_load_dpm_libs is None:\n",
        "    print(\"La función ini_load_dpm_libs no se encontró en el módulo.\")\n",
        "else:\n",
        "    print(\"Función ini_load_dpm_libs cargada correctamente.\")\n",
        "\n",
        "if ini_environment_identification is None:\n",
        "    print(\"La función ini_environment_identification no se encontró en el módulo.\")\n",
        "else:\n",
        "    print(\"Función ini_environment_identification cargada correctamente.\")\n",
        "\n",
        "if ini_google_drive_instalation is None:\n",
        "    print(\"La función ini_google_drive_instalation no se encontró en el módulo.\")\n",
        "else:\n",
        "    print(\"Función ini_google_drive_instalation cargada correctamente.\")\n"
      ],
      "metadata": {
        "id": "EPbRzlCq9Clc",
        "outputId": "2be7720d-e264-4c8f-ecdf-0e1b0e6362a9",
        "colab": {
          "base_uri": "https://localhost:8080/"
        }
      },
      "execution_count": 1,
      "outputs": [
        {
          "output_type": "stream",
          "name": "stdout",
          "text": [
            "Función ini_install_libraries cargada correctamente.\n",
            "Función ini_load_dpm_libs cargada correctamente.\n",
            "Función ini_environment_identification cargada correctamente.\n",
            "Función ini_google_drive_instalation cargada correctamente.\n"
          ]
        }
      ]
    },
    {
      "cell_type": "code",
      "source": [
        "# @title IDENTIFICACION DE ENTORNO, INSTALACIÓN GOOGLE DRIVE\n",
        "\n",
        "# Detectar el entorno de ejecución\n",
        "ini_environment_identificated = ini_environment_identification()\n",
        "print(f\"[INFO ℹ️] Entorno detectado: {ini_environment_identificated}\", flush=True)\n",
        "\n",
        "GCP_json_keyfile_local = r\"C:/api_keys/XXX.json\"\n",
        "GCP_json_keyfile_colab = \"/content/drive/MyDrive/ANIMUM DIRECCION/DIRECCION BI/NOTEBOOKS/api_keys/animum-dev-apps-google-colab.json\"\n",
        "GCP_json_keyfile_GCP_secret_id = \"notebook-vm\"\n",
        "\n",
        "# Montar Google Drive si entorno_identificado_str es Colab\n",
        "params = {\"entorno_identificado_str\": ini_environment_identificated}\n",
        "ini_google_drive_instalation(params)"
      ],
      "metadata": {
        "id": "1_UyYEYp9M2a",
        "outputId": "e3725d1b-2123-43a6-bbbe-2e153be144fe",
        "colab": {
          "base_uri": "https://localhost:8080/"
        }
      },
      "execution_count": null,
      "outputs": [
        {
          "output_type": "stream",
          "name": "stdout",
          "text": [
            "[INFO ℹ️] Entorno detectado: COLAB\n"
          ]
        }
      ]
    },
    {
      "cell_type": "code",
      "source": [
        "# @title INSTALACION DE LIBRERIAS\n",
        "from IPython import get_ipython\n",
        "import os\n",
        "packages = [\n",
        "    {\n",
        "        \"name\": \"whisper\",\n",
        "        \"import_name\": \"whisper\",\n",
        "        \"install_cmd\": \"pip install git+https://github.com/openai/whisper.git\" # Instalación desde GitHub:\n",
        "    },\n",
        "    # {\n",
        "    #     \"name\": \"ffmpeg-python\",\n",
        "    #     \"import_name\": \"ffmpeg\",\n",
        "    #     \"pip_name\": \"ffmpeg-python\"\n",
        "    # },\n",
        "    # {\n",
        "    #     \"name\": \"FFmpeg\",  # Paquete del sistema\n",
        "    #     \"is_system\": True,\n",
        "    #     \"check_cmd\": \"ffmpeg -version\",\n",
        "    #     \"install_cmds\": [\n",
        "    #         \"apt-get update\",\n",
        "    #         \"apt-get install -y ffmpeg\",\n",
        "    #         \"ffmpeg -version\"\n",
        "    #     ]\n",
        "    # },\n",
        "\n",
        "    {\"name\": \"rapidfuzz\", \"import_name\": \"rapidfuzz\", \"pip_name\": \"rapidfuzz\"},\n",
        "    {\"name\": \"pycountry\", \"import_name\": \"pycountry\", \"pip_name\": \"pycountry\"},\n",
        "    {\"name\": \"phonenumbers\", \"import_name\": \"phonenumbers\", \"pip_name\": \"phonenumbers\"},\n",
        "    {\"name\": \"deep_translator\", \"import_name\": \"deep_translator\", \"pip_name\": \"deep_translator\"},\n",
        "    {\"name\": \"requests\", \"import_name\": \"requests\", \"pip_name\": \"requests\"},\n",
        "    {\"name\": \"beautifulsoup4\", \"import_name\": \"bs4\", \"pip_name\": \"beautifulsoup4\"},\n",
        "    {\"name\": \"googletrans\", \"import_name\": \"googletrans\", \"pip_name\": \"googletrans\", \"version\": \"4.0.0-rc1\"},\n",
        "]\n",
        "\n",
        "# Ejecuta la función para cada paquete\n",
        "for pkg in packages:\n",
        "    ini_install_libraries(pkg)\n"
      ],
      "metadata": {
        "id": "eQoX3eAX9SJY"
      },
      "execution_count": null,
      "outputs": []
    },
    {
      "cell_type": "code",
      "source": [
        "# @title IMPORTACIÓN DE LIBRERÍAS DPM\n",
        "import sys\n",
        "import os\n",
        "import importlib\n",
        "import datetime\n",
        "import inspect\n",
        "import pandas as pd\n",
        "\n",
        "\n",
        "\n",
        "# Configuración para importar librerías personalizadas\n",
        "config = [\n",
        "    {\n",
        "        \"module_host\": \"github\",\n",
        "        # Se utiliza la URL raw para obtener el contenido real del archivo\n",
        "        \"module_path\": \"https://raw.githubusercontent.com/DavidP0011/utils/main/dpm_tables.py\",\n",
        "        \"selected_functions_list\": []\n",
        "    },\n",
        "    {\n",
        "        \"module_host\": \"github\",\n",
        "        # Se utiliza la URL raw para obtener el contenido real del archivo\n",
        "        \"module_path\": \"https://raw.githubusercontent.com/DavidP0011/utils/main/dpm_GCP_utils.py\",\n",
        "        \"selected_functions_list\": []\n",
        "    },\n",
        "    {\n",
        "        \"module_host\": \"github\",\n",
        "        \"module_path\": \"https://raw.githubusercontent.com/DavidP0011/utils/main/dpm_apps_utils.py\",\n",
        "        \"selected_functions_list\": []\n",
        "    }\n",
        "]\n",
        "\n",
        "# Cargar las librerías personalizadas\n",
        "ini_load_dpm_libs(config)\n"
      ],
      "metadata": {
        "id": "ExZnlgxzN3hT"
      },
      "execution_count": null,
      "outputs": []
    },
    {
      "cell_type": "markdown",
      "source": [
        "## GBQ DATASETS SCHEMA"
      ],
      "metadata": {
        "id": "Teu_Q7OxO5nN"
      }
    },
    {
      "cell_type": "code",
      "source": [
        "# @title GBQ INFO GLOBAL\n",
        "\n",
        "\n",
        "# Configuración\n",
        "params_dic = {\n",
        "    \"spreadsheet_source_table_id\": \"1aJCGTJtDu_ODqBc4zUcrpQ-q6PE_HN0rO4mwYMIhCXw\",\n",
        "    \"spreadsheet_source_table_worksheet_name\": \"DATA\",\n",
        "\n",
        "    \"ini_environment_identificated\": ini_environment_identificated,\n",
        "    \"json_keyfile_GCP_secret_id\": GCP_json_keyfile_GCP_secret_id,\n",
        "    \"json_keyfile_colab\": GCP_json_keyfile_colab\n",
        "}\n",
        "\n",
        "\n",
        "\n",
        "full_info_from_GBQ_df = table_various_sources_to_DF(params_dic)\n",
        "display(full_info_from_GBQ_df)"
      ],
      "metadata": {
        "id": "6rFSqt23O7ft"
      },
      "execution_count": null,
      "outputs": []
    },
    {
      "cell_type": "code",
      "source": [
        "# @title GBQ DATASETS\n",
        "print(\"Datasets disponibles:\\n\")\n",
        "for dataset in full_info_from_GBQ_df['dataset_id'].unique():\n",
        "    print(f\"{dataset}\")"
      ],
      "metadata": {
        "id": "zT0CjPsKO9Tt"
      },
      "execution_count": null,
      "outputs": []
    },
    {
      "cell_type": "markdown",
      "metadata": {
        "id": "PjCHetu3qgUD"
      },
      "source": [
        "# EJECUCIONES"
      ]
    },
    {
      "cell_type": "code",
      "source": [
        "# @title OBTENCION DF CON RUTAS\n",
        "\n",
        "\n",
        "# Configuración\n",
        "config = {\n",
        "    \"spreadsheet_source_table_id\": \"1_WDFCgVu4dtFDgCcW7Yzhx6-gUlQeJiBmIrwzA5agGI\",\n",
        "    \"spreadsheet_source_table_worksheet_name\": \"SOURCE\",\n",
        "\n",
        "    \"ini_environment_identificated\": ini_environment_identificated,\n",
        "    \"json_keyfile_local\": GCP_json_keyfile_local,\n",
        "    \"json_keyfile_colab\": GCP_json_keyfile_colab,\n",
        "    \"json_keyfile_GCP_secret_id\": GCP_json_keyfile_GCP_secret_id,\n",
        "}\n",
        "\n",
        "import os\n",
        "import pandas as pd\n",
        "\n",
        "df = table_various_sources_to_DF(config)\n",
        "\n",
        "display(df)"
      ],
      "metadata": {
        "id": "oQucvT3bG0gj"
      },
      "execution_count": null,
      "outputs": []
    },
    {
      "cell_type": "code",
      "source": [
        "# @title TRANSCRIPCIÓN Y SUBIDA A SPREADSHEET\n",
        "\n",
        "config = {\n",
        "    \"source_files_path_table_df\": df,\n",
        "    \"target_files_path_table_spreadsheet_url\": \"https://docs.google.com/spreadsheets/d/1_WDFCgVu4dtFDgCcW7Yzhx6-gUlQeJiBmIrwzA5agGI\",\n",
        "    \"target_files_path_table_spreadsheet_worksheet\": \"ResponseAPI\",\n",
        "    \"field_name_for_file_path\": \"file_path\",\n",
        "\n",
        "    \"whisper_model_size\": \"large-v2\",\n",
        "    \"whisper_language\": \"es\",  # Ejemplo: español\n",
        "\n",
        "    \"ini_environment_identificated\": ini_environment_identificated,\n",
        "    \"json_keyfile_local\": GCP_json_keyfile_local,\n",
        "    \"json_keyfile_colab\": GCP_json_keyfile_colab,\n",
        "    \"json_keyfile_GCP_secret_id\": GCP_json_keyfile_GCP_secret_id,\n",
        "}\n",
        "\n",
        "# Llamar a la función con manejo de errores (la función ya incorpora try/except internamente)\n",
        "df_to_whisper_transcribe_to_spreadsheet(config)\n",
        "\n"
      ],
      "metadata": {
        "colab": {
          "base_uri": "https://localhost:8080/",
          "height": 524
        },
        "id": "-ELsw0CBf_Sn",
        "outputId": "7b676d5a-63b9-4234-bba7-33a60af3001d"
      },
      "execution_count": null,
      "outputs": [
        {
          "output_type": "stream",
          "name": "stdout",
          "text": [
            "🔹🔹🔹 [START ▶️] Autenticando con Google Sheets 🔹🔹🔹\n",
            "[AUTH SUCCESS ✅] Autenticación exitosa.\n",
            "🔹🔹🔹 [START ▶️] Preparando hoja destino: ResponseAPI 🔹🔹🔹\n"
          ]
        },
        {
          "output_type": "stream",
          "name": "stderr",
          "text": [
            "<ipython-input-7-83aae5457058>:106: DeprecationWarning: The order of arguments in worksheet.update() has changed. Please pass values first and range_name secondor used named arguments (range_name=, values=)\n",
            "  destination_sheet.update(\"A1\", [dest_header])\n"
          ]
        },
        {
          "output_type": "stream",
          "name": "stdout",
          "text": [
            "[SHEET SUCCESS ✅] Hoja destino preparada y encabezados definidos.\n",
            "🔹🔹🔹 [START ▶️] Cargando modelo Whisper 'large-v2' 🔹🔹🔹\n"
          ]
        },
        {
          "output_type": "stream",
          "name": "stderr",
          "text": [
            " 24%|█████████▏                            | 710M/2.87G [00:20<01:04, 36.1MiB/s]\n"
          ]
        },
        {
          "output_type": "error",
          "ename": "KeyboardInterrupt",
          "evalue": "",
          "traceback": [
            "\u001b[0;31m---------------------------------------------------------------------------\u001b[0m",
            "\u001b[0;31mKeyboardInterrupt\u001b[0m                         Traceback (most recent call last)",
            "\u001b[0;32m<ipython-input-9-4f02437eb5ce>\u001b[0m in \u001b[0;36m<cell line: 0>\u001b[0;34m()\u001b[0m\n\u001b[1;32m     19\u001b[0m \u001b[0;34m\u001b[0m\u001b[0m\n\u001b[1;32m     20\u001b[0m \u001b[0;31m# Llamar a la función con manejo de errores (la función ya incorpora try/except internamente)\u001b[0m\u001b[0;34m\u001b[0m\u001b[0;34m\u001b[0m\u001b[0m\n\u001b[0;32m---> 21\u001b[0;31m \u001b[0mdf_to_whisper_transcribe_to_spreadsheet\u001b[0m\u001b[0;34m(\u001b[0m\u001b[0mconfig\u001b[0m\u001b[0;34m)\u001b[0m\u001b[0;34m\u001b[0m\u001b[0;34m\u001b[0m\u001b[0m\n\u001b[0m\u001b[1;32m     22\u001b[0m \u001b[0;34m\u001b[0m\u001b[0m\n",
            "\u001b[0;32m<ipython-input-7-83aae5457058>\u001b[0m in \u001b[0;36mdf_to_whisper_transcribe_to_spreadsheet\u001b[0;34m(config)\u001b[0m\n\u001b[1;32m    156\u001b[0m     \u001b[0;31m# Ejecutar el proceso de transcripción con manejo de errores\u001b[0m\u001b[0;34m\u001b[0m\u001b[0;34m\u001b[0m\u001b[0m\n\u001b[1;32m    157\u001b[0m     \u001b[0;32mtry\u001b[0m\u001b[0;34m:\u001b[0m\u001b[0;34m\u001b[0m\u001b[0;34m\u001b[0m\u001b[0m\n\u001b[0;32m--> 158\u001b[0;31m         \u001b[0m_process_transcription\u001b[0m\u001b[0;34m(\u001b[0m\u001b[0;34m)\u001b[0m\u001b[0;34m\u001b[0m\u001b[0;34m\u001b[0m\u001b[0m\n\u001b[0m\u001b[1;32m    159\u001b[0m         \u001b[0mprint\u001b[0m\u001b[0;34m(\u001b[0m\u001b[0;34m\"Proceso completado con éxito.\"\u001b[0m\u001b[0;34m,\u001b[0m \u001b[0mflush\u001b[0m\u001b[0;34m=\u001b[0m\u001b[0;32mTrue\u001b[0m\u001b[0;34m)\u001b[0m\u001b[0;34m\u001b[0m\u001b[0;34m\u001b[0m\u001b[0m\n\u001b[1;32m    160\u001b[0m     \u001b[0;32mexcept\u001b[0m \u001b[0mValueError\u001b[0m \u001b[0;32mas\u001b[0m \u001b[0mve\u001b[0m\u001b[0;34m:\u001b[0m\u001b[0;34m\u001b[0m\u001b[0;34m\u001b[0m\u001b[0m\n",
            "\u001b[0;32m<ipython-input-7-83aae5457058>\u001b[0m in \u001b[0;36m_process_transcription\u001b[0;34m()\u001b[0m\n\u001b[1;32m    109\u001b[0m         \u001b[0;31m# Cargar modelo Whisper\u001b[0m\u001b[0;34m\u001b[0m\u001b[0;34m\u001b[0m\u001b[0m\n\u001b[1;32m    110\u001b[0m         \u001b[0mprint\u001b[0m\u001b[0;34m(\u001b[0m\u001b[0;34mf\"🔹🔹🔹 [START ▶️] Cargando modelo Whisper '{whisper_model_size}' 🔹🔹🔹\"\u001b[0m\u001b[0;34m,\u001b[0m \u001b[0mflush\u001b[0m\u001b[0;34m=\u001b[0m\u001b[0;32mTrue\u001b[0m\u001b[0;34m)\u001b[0m\u001b[0;34m\u001b[0m\u001b[0;34m\u001b[0m\u001b[0m\n\u001b[0;32m--> 111\u001b[0;31m         \u001b[0mmodel\u001b[0m \u001b[0;34m=\u001b[0m \u001b[0mwhisper\u001b[0m\u001b[0;34m.\u001b[0m\u001b[0mload_model\u001b[0m\u001b[0;34m(\u001b[0m\u001b[0mwhisper_model_size\u001b[0m\u001b[0;34m)\u001b[0m\u001b[0;34m\u001b[0m\u001b[0;34m\u001b[0m\u001b[0m\n\u001b[0m\u001b[1;32m    112\u001b[0m         \u001b[0mgpu_model\u001b[0m \u001b[0;34m=\u001b[0m \u001b[0mtorch\u001b[0m\u001b[0;34m.\u001b[0m\u001b[0mcuda\u001b[0m\u001b[0;34m.\u001b[0m\u001b[0mget_device_name\u001b[0m\u001b[0;34m(\u001b[0m\u001b[0;36m0\u001b[0m\u001b[0;34m)\u001b[0m \u001b[0;32mif\u001b[0m \u001b[0mtorch\u001b[0m\u001b[0;34m.\u001b[0m\u001b[0mcuda\u001b[0m\u001b[0;34m.\u001b[0m\u001b[0mis_available\u001b[0m\u001b[0;34m(\u001b[0m\u001b[0;34m)\u001b[0m \u001b[0;32melse\u001b[0m \u001b[0;34m\"No\"\u001b[0m\u001b[0;34m\u001b[0m\u001b[0;34m\u001b[0m\u001b[0m\n\u001b[1;32m    113\u001b[0m         \u001b[0mprint\u001b[0m\u001b[0;34m(\u001b[0m\u001b[0;34m\"[MODEL SUCCESS ✅] Modelo Whisper cargado.\"\u001b[0m\u001b[0;34m,\u001b[0m \u001b[0mflush\u001b[0m\u001b[0;34m=\u001b[0m\u001b[0;32mTrue\u001b[0m\u001b[0;34m)\u001b[0m\u001b[0;34m\u001b[0m\u001b[0;34m\u001b[0m\u001b[0m\n",
            "\u001b[0;32m/usr/local/lib/python3.11/dist-packages/whisper/__init__.py\u001b[0m in \u001b[0;36mload_model\u001b[0;34m(name, device, download_root, in_memory)\u001b[0m\n\u001b[1;32m    135\u001b[0m \u001b[0;34m\u001b[0m\u001b[0m\n\u001b[1;32m    136\u001b[0m     \u001b[0;32mif\u001b[0m \u001b[0mname\u001b[0m \u001b[0;32min\u001b[0m \u001b[0m_MODELS\u001b[0m\u001b[0;34m:\u001b[0m\u001b[0;34m\u001b[0m\u001b[0;34m\u001b[0m\u001b[0m\n\u001b[0;32m--> 137\u001b[0;31m         \u001b[0mcheckpoint_file\u001b[0m \u001b[0;34m=\u001b[0m \u001b[0m_download\u001b[0m\u001b[0;34m(\u001b[0m\u001b[0m_MODELS\u001b[0m\u001b[0;34m[\u001b[0m\u001b[0mname\u001b[0m\u001b[0;34m]\u001b[0m\u001b[0;34m,\u001b[0m \u001b[0mdownload_root\u001b[0m\u001b[0;34m,\u001b[0m \u001b[0min_memory\u001b[0m\u001b[0;34m)\u001b[0m\u001b[0;34m\u001b[0m\u001b[0;34m\u001b[0m\u001b[0m\n\u001b[0m\u001b[1;32m    138\u001b[0m         \u001b[0malignment_heads\u001b[0m \u001b[0;34m=\u001b[0m \u001b[0m_ALIGNMENT_HEADS\u001b[0m\u001b[0;34m[\u001b[0m\u001b[0mname\u001b[0m\u001b[0;34m]\u001b[0m\u001b[0;34m\u001b[0m\u001b[0;34m\u001b[0m\u001b[0m\n\u001b[1;32m    139\u001b[0m     \u001b[0;32melif\u001b[0m \u001b[0mos\u001b[0m\u001b[0;34m.\u001b[0m\u001b[0mpath\u001b[0m\u001b[0;34m.\u001b[0m\u001b[0misfile\u001b[0m\u001b[0;34m(\u001b[0m\u001b[0mname\u001b[0m\u001b[0;34m)\u001b[0m\u001b[0;34m:\u001b[0m\u001b[0;34m\u001b[0m\u001b[0;34m\u001b[0m\u001b[0m\n",
            "\u001b[0;32m/usr/local/lib/python3.11/dist-packages/whisper/__init__.py\u001b[0m in \u001b[0;36m_download\u001b[0;34m(url, root, in_memory)\u001b[0m\n\u001b[1;32m     80\u001b[0m         ) as loop:\n\u001b[1;32m     81\u001b[0m             \u001b[0;32mwhile\u001b[0m \u001b[0;32mTrue\u001b[0m\u001b[0;34m:\u001b[0m\u001b[0;34m\u001b[0m\u001b[0;34m\u001b[0m\u001b[0m\n\u001b[0;32m---> 82\u001b[0;31m                 \u001b[0mbuffer\u001b[0m \u001b[0;34m=\u001b[0m \u001b[0msource\u001b[0m\u001b[0;34m.\u001b[0m\u001b[0mread\u001b[0m\u001b[0;34m(\u001b[0m\u001b[0;36m8192\u001b[0m\u001b[0;34m)\u001b[0m\u001b[0;34m\u001b[0m\u001b[0;34m\u001b[0m\u001b[0m\n\u001b[0m\u001b[1;32m     83\u001b[0m                 \u001b[0;32mif\u001b[0m \u001b[0;32mnot\u001b[0m \u001b[0mbuffer\u001b[0m\u001b[0;34m:\u001b[0m\u001b[0;34m\u001b[0m\u001b[0;34m\u001b[0m\u001b[0m\n\u001b[1;32m     84\u001b[0m                     \u001b[0;32mbreak\u001b[0m\u001b[0;34m\u001b[0m\u001b[0;34m\u001b[0m\u001b[0m\n",
            "\u001b[0;32m/usr/lib/python3.11/http/client.py\u001b[0m in \u001b[0;36mread\u001b[0;34m(self, amt)\u001b[0m\n\u001b[1;32m    471\u001b[0m                 \u001b[0;31m# clip the read to the \"end of response\"\u001b[0m\u001b[0;34m\u001b[0m\u001b[0;34m\u001b[0m\u001b[0m\n\u001b[1;32m    472\u001b[0m                 \u001b[0mamt\u001b[0m \u001b[0;34m=\u001b[0m \u001b[0mself\u001b[0m\u001b[0;34m.\u001b[0m\u001b[0mlength\u001b[0m\u001b[0;34m\u001b[0m\u001b[0;34m\u001b[0m\u001b[0m\n\u001b[0;32m--> 473\u001b[0;31m             \u001b[0ms\u001b[0m \u001b[0;34m=\u001b[0m \u001b[0mself\u001b[0m\u001b[0;34m.\u001b[0m\u001b[0mfp\u001b[0m\u001b[0;34m.\u001b[0m\u001b[0mread\u001b[0m\u001b[0;34m(\u001b[0m\u001b[0mamt\u001b[0m\u001b[0;34m)\u001b[0m\u001b[0;34m\u001b[0m\u001b[0;34m\u001b[0m\u001b[0m\n\u001b[0m\u001b[1;32m    474\u001b[0m             \u001b[0;32mif\u001b[0m \u001b[0;32mnot\u001b[0m \u001b[0ms\u001b[0m \u001b[0;32mand\u001b[0m \u001b[0mamt\u001b[0m\u001b[0;34m:\u001b[0m\u001b[0;34m\u001b[0m\u001b[0;34m\u001b[0m\u001b[0m\n\u001b[1;32m    475\u001b[0m                 \u001b[0;31m# Ideally, we would raise IncompleteRead if the content-length\u001b[0m\u001b[0;34m\u001b[0m\u001b[0;34m\u001b[0m\u001b[0m\n",
            "\u001b[0;32m/usr/lib/python3.11/socket.py\u001b[0m in \u001b[0;36mreadinto\u001b[0;34m(self, b)\u001b[0m\n\u001b[1;32m    716\u001b[0m         \u001b[0;32mwhile\u001b[0m \u001b[0;32mTrue\u001b[0m\u001b[0;34m:\u001b[0m\u001b[0;34m\u001b[0m\u001b[0;34m\u001b[0m\u001b[0m\n\u001b[1;32m    717\u001b[0m             \u001b[0;32mtry\u001b[0m\u001b[0;34m:\u001b[0m\u001b[0;34m\u001b[0m\u001b[0;34m\u001b[0m\u001b[0m\n\u001b[0;32m--> 718\u001b[0;31m                 \u001b[0;32mreturn\u001b[0m \u001b[0mself\u001b[0m\u001b[0;34m.\u001b[0m\u001b[0m_sock\u001b[0m\u001b[0;34m.\u001b[0m\u001b[0mrecv_into\u001b[0m\u001b[0;34m(\u001b[0m\u001b[0mb\u001b[0m\u001b[0;34m)\u001b[0m\u001b[0;34m\u001b[0m\u001b[0;34m\u001b[0m\u001b[0m\n\u001b[0m\u001b[1;32m    719\u001b[0m             \u001b[0;32mexcept\u001b[0m \u001b[0mtimeout\u001b[0m\u001b[0;34m:\u001b[0m\u001b[0;34m\u001b[0m\u001b[0;34m\u001b[0m\u001b[0m\n\u001b[1;32m    720\u001b[0m                 \u001b[0mself\u001b[0m\u001b[0;34m.\u001b[0m\u001b[0m_timeout_occurred\u001b[0m \u001b[0;34m=\u001b[0m \u001b[0;32mTrue\u001b[0m\u001b[0;34m\u001b[0m\u001b[0;34m\u001b[0m\u001b[0m\n",
            "\u001b[0;32m/usr/lib/python3.11/ssl.py\u001b[0m in \u001b[0;36mrecv_into\u001b[0;34m(self, buffer, nbytes, flags)\u001b[0m\n\u001b[1;32m   1312\u001b[0m                   \u001b[0;34m\"non-zero flags not allowed in calls to recv_into() on %s\"\u001b[0m \u001b[0;34m%\u001b[0m\u001b[0;34m\u001b[0m\u001b[0;34m\u001b[0m\u001b[0m\n\u001b[1;32m   1313\u001b[0m                   self.__class__)\n\u001b[0;32m-> 1314\u001b[0;31m             \u001b[0;32mreturn\u001b[0m \u001b[0mself\u001b[0m\u001b[0;34m.\u001b[0m\u001b[0mread\u001b[0m\u001b[0;34m(\u001b[0m\u001b[0mnbytes\u001b[0m\u001b[0;34m,\u001b[0m \u001b[0mbuffer\u001b[0m\u001b[0;34m)\u001b[0m\u001b[0;34m\u001b[0m\u001b[0;34m\u001b[0m\u001b[0m\n\u001b[0m\u001b[1;32m   1315\u001b[0m         \u001b[0;32melse\u001b[0m\u001b[0;34m:\u001b[0m\u001b[0;34m\u001b[0m\u001b[0;34m\u001b[0m\u001b[0m\n\u001b[1;32m   1316\u001b[0m             \u001b[0;32mreturn\u001b[0m \u001b[0msuper\u001b[0m\u001b[0;34m(\u001b[0m\u001b[0;34m)\u001b[0m\u001b[0;34m.\u001b[0m\u001b[0mrecv_into\u001b[0m\u001b[0;34m(\u001b[0m\u001b[0mbuffer\u001b[0m\u001b[0;34m,\u001b[0m \u001b[0mnbytes\u001b[0m\u001b[0;34m,\u001b[0m \u001b[0mflags\u001b[0m\u001b[0;34m)\u001b[0m\u001b[0;34m\u001b[0m\u001b[0;34m\u001b[0m\u001b[0m\n",
            "\u001b[0;32m/usr/lib/python3.11/ssl.py\u001b[0m in \u001b[0;36mread\u001b[0;34m(self, len, buffer)\u001b[0m\n\u001b[1;32m   1164\u001b[0m         \u001b[0;32mtry\u001b[0m\u001b[0;34m:\u001b[0m\u001b[0;34m\u001b[0m\u001b[0;34m\u001b[0m\u001b[0m\n\u001b[1;32m   1165\u001b[0m             \u001b[0;32mif\u001b[0m \u001b[0mbuffer\u001b[0m \u001b[0;32mis\u001b[0m \u001b[0;32mnot\u001b[0m \u001b[0;32mNone\u001b[0m\u001b[0;34m:\u001b[0m\u001b[0;34m\u001b[0m\u001b[0;34m\u001b[0m\u001b[0m\n\u001b[0;32m-> 1166\u001b[0;31m                 \u001b[0;32mreturn\u001b[0m \u001b[0mself\u001b[0m\u001b[0;34m.\u001b[0m\u001b[0m_sslobj\u001b[0m\u001b[0;34m.\u001b[0m\u001b[0mread\u001b[0m\u001b[0;34m(\u001b[0m\u001b[0mlen\u001b[0m\u001b[0;34m,\u001b[0m \u001b[0mbuffer\u001b[0m\u001b[0;34m)\u001b[0m\u001b[0;34m\u001b[0m\u001b[0;34m\u001b[0m\u001b[0m\n\u001b[0m\u001b[1;32m   1167\u001b[0m             \u001b[0;32melse\u001b[0m\u001b[0;34m:\u001b[0m\u001b[0;34m\u001b[0m\u001b[0;34m\u001b[0m\u001b[0m\n\u001b[1;32m   1168\u001b[0m                 \u001b[0;32mreturn\u001b[0m \u001b[0mself\u001b[0m\u001b[0;34m.\u001b[0m\u001b[0m_sslobj\u001b[0m\u001b[0;34m.\u001b[0m\u001b[0mread\u001b[0m\u001b[0;34m(\u001b[0m\u001b[0mlen\u001b[0m\u001b[0;34m)\u001b[0m\u001b[0;34m\u001b[0m\u001b[0;34m\u001b[0m\u001b[0m\n",
            "\u001b[0;31mKeyboardInterrupt\u001b[0m: "
          ]
        }
      ]
    }
  ],
  "metadata": {
    "colab": {
      "gpuType": "T4",
      "provenance": [],
      "toc_visible": true,
      "authorship_tag": "ABX9TyODTbJFpc3bzMLtU3LqCxHy",
      "include_colab_link": true
    },
    "kernelspec": {
      "display_name": "Python 3",
      "name": "python3"
    },
    "language_info": {
      "name": "python"
    },
    "accelerator": "GPU"
  },
  "nbformat": 4,
  "nbformat_minor": 0
}