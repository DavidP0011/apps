{
  "cells": [
    {
      "cell_type": "markdown",
      "metadata": {
        "id": "view-in-github",
        "colab_type": "text"
      },
      "source": [
        "<a href=\"https://colab.research.google.com/github/DavidP0011/apps/blob/main/app_transc_03_clean.ipynb\" target=\"_parent\"><img src=\"https://colab.research.google.com/assets/colab-badge.svg\" alt=\"Open In Colab\"/></a>"
      ]
    },
    {
      "cell_type": "markdown",
      "source": [
        "# INICIALIZACIÓN"
      ],
      "metadata": {
        "id": "nxXmQcqu9E_1"
      }
    },
    {
      "cell_type": "code",
      "source": [
        "# @title dpm_ini_utils.py (GitHub)\n",
        "\n",
        "import os         # Para operaciones del sistema y manejo de rutas.\n",
        "import sys        # Para interactuar con el sistema, en particular con sys.path.\n",
        "import importlib  # Para realizar importaciones dinámicas.\n",
        "import tempfile   # Para crear archivos temporales.\n",
        "import requests   # Para realizar peticiones HTTP y descargar el módulo.\n",
        "\n",
        "# URL raw del módulo en GitHub (debe incluir las funciones ini_load_dpm_libs, ini_environment_identification e ini_google_drive_instalation)\n",
        "github_url = \"https://raw.githubusercontent.com/DavidP0011/utils/main/dpm_ini_utils.py\"\n",
        "\n",
        "# Solicitar la descarga sin utilizar caché, para asegurar que se obtiene la versión actualizada.\n",
        "headers = {\"Cache-Control\": \"no-cache\", \"Pragma\": \"no-cache\"}\n",
        "response = requests.get(github_url, headers=headers)\n",
        "if response.status_code != 200:\n",
        "    raise Exception(f\"Error al descargar el módulo desde GitHub. Código: {response.status_code}\")\n",
        "\n",
        "# Guardar el contenido descargado en un archivo temporal.\n",
        "temp_dir = tempfile.gettempdir()\n",
        "module_path = os.path.join(temp_dir, \"dpm_ini_utils.py\")\n",
        "with open(module_path, \"wb\") as f:\n",
        "    f.write(response.content)\n",
        "\n",
        "# Agregar el directorio temporal a sys.path si aún no está incluido, para permitir la importación.\n",
        "if temp_dir not in sys.path:\n",
        "    sys.path.insert(0, temp_dir)\n",
        "\n",
        "# Invalidar cachés y eliminar versiones previas del módulo para forzar la recarga.\n",
        "importlib.invalidate_caches()\n",
        "module_name = \"dpm_ini_utils\"\n",
        "if module_name in sys.modules:\n",
        "    del sys.modules[module_name]\n",
        "\n",
        "# Importar y recargar el módulo.\n",
        "module = importlib.import_module(module_name)\n",
        "module = importlib.reload(module)\n",
        "\n",
        "# Intentar importar las funciones deseadas desde el módulo.\n",
        "ini_install_libraries = getattr(module, \"ini_install_libraries\", None)\n",
        "ini_load_dpm_libs = getattr(module, \"ini_load_dpm_libs\", None)\n",
        "ini_environment_identification = getattr(module, \"ini_environment_identification\", None)\n",
        "ini_google_drive_instalation = getattr(module, \"ini_google_drive_instalation\", None)\n",
        "\n",
        "# Verificar que las funciones se hayan importado correctamente.\n",
        "if ini_install_libraries is None:\n",
        "    print(\"La función ini_install_libraries no se encontró en el módulo.\")\n",
        "else:\n",
        "    print(\"Función ini_install_libraries cargada correctamente.\")\n",
        "\n",
        "if ini_load_dpm_libs is None:\n",
        "    print(\"La función ini_load_dpm_libs no se encontró en el módulo.\")\n",
        "else:\n",
        "    print(\"Función ini_load_dpm_libs cargada correctamente.\")\n",
        "\n",
        "if ini_environment_identification is None:\n",
        "    print(\"La función ini_environment_identification no se encontró en el módulo.\")\n",
        "else:\n",
        "    print(\"Función ini_environment_identification cargada correctamente.\")\n",
        "\n",
        "if ini_google_drive_instalation is None:\n",
        "    print(\"La función ini_google_drive_instalation no se encontró en el módulo.\")\n",
        "else:\n",
        "    print(\"Función ini_google_drive_instalation cargada correctamente.\")\n"
      ],
      "metadata": {
        "id": "EPbRzlCq9Clc",
        "outputId": "c0a7ed7c-487e-430b-cae8-18264e6c51a6",
        "colab": {
          "base_uri": "https://localhost:8080/"
        }
      },
      "execution_count": 1,
      "outputs": [
        {
          "output_type": "stream",
          "name": "stdout",
          "text": [
            "Función ini_install_libraries cargada correctamente.\n",
            "Función ini_load_dpm_libs cargada correctamente.\n",
            "Función ini_environment_identification cargada correctamente.\n",
            "Función ini_google_drive_instalation cargada correctamente.\n"
          ]
        }
      ]
    },
    {
      "cell_type": "code",
      "source": [
        "# @title IDENTIFICACION DE ENTORNO, INSTALACIÓN GOOGLE DRIVE\n",
        "\n",
        "# Detectar el entorno de ejecución\n",
        "ini_environment_identificated = ini_environment_identification()\n",
        "print(f\"[INFO ℹ️] Entorno detectado: {ini_environment_identificated}\", flush=True)\n",
        "\n",
        "GCP_json_keyfile_local = r\"C:/api_keys/XXX.json\"\n",
        "GCP_json_keyfile_colab = \"/content/drive/MyDrive/ANIMUM DIRECCION/DIRECCION BI/NOTEBOOKS/api_keys/animum-dev-apps-google-colab.json\"\n",
        "GCP_json_keyfile_GCP_secret_id = \"notebook-vm\"\n",
        "\n",
        "# Montar Google Drive si entorno_identificado_str es Colab\n",
        "params = {\"entorno_identificado_str\": ini_environment_identificated}\n",
        "ini_google_drive_instalation(params)"
      ],
      "metadata": {
        "id": "1_UyYEYp9M2a",
        "outputId": "d8708f3e-604d-4c14-82a6-77bee6c11e38",
        "colab": {
          "base_uri": "https://localhost:8080/"
        }
      },
      "execution_count": null,
      "outputs": [
        {
          "output_type": "stream",
          "name": "stdout",
          "text": [
            "[INFO ℹ️] Entorno detectado: COLAB\n"
          ]
        }
      ]
    },
    {
      "cell_type": "code",
      "source": [
        "# @title INSTALACION DE LIBRERIAS\n",
        "from IPython import get_ipython\n",
        "import os\n",
        "packages = [\n",
        "    # {\"name\": \"rapidfuzz\", \"is_system\": False, \"import_name\": \"rapidfuzz\", \"pip_name\": \"rapidfuzz\", \"version\": None, \"install_cmd\": None, \"check_cmd\": None, \"install_cmds\": []},\n",
        "    # {\"name\": \"pycountry\", \"is_system\": False, \"import_name\": \"pycountry\", \"pip_name\": \"pycountry\", \"version\": None, \"install_cmd\": None, \"check_cmd\": None, \"install_cmds\": []},\n",
        "    # {\"name\": \"phonenumbers\", \"is_system\": False, \"import_name\": \"phonenumbers\", \"pip_name\": \"phonenumbers\", \"version\": None, \"install_cmd\": None, \"check_cmd\": None, \"install_cmds\": []},\n",
        "    # {\"name\": \"deep_translator\", \"is_system\": False, \"import_name\": \"deep_translator\", \"pip_name\": \"deep_translator\", \"version\": None, \"install_cmd\": None, \"check_cmd\": None, \"install_cmds\": []},\n",
        "    # {\"name\": \"requests\", \"is_system\": False, \"import_name\": \"requests\", \"pip_name\": \"requests\", \"version\": None, \"install_cmd\": None, \"check_cmd\": None, \"install_cmds\": []},\n",
        "    # {\"name\": \"beautifulsoup4\", \"is_system\": False, \"import_name\": \"bs4\", \"pip_name\": \"beautifulsoup4\", \"version\": None, \"install_cmd\": None, \"check_cmd\": None, \"install_cmds\": []},\n",
        "    # {\"name\": \"googletrans\", \"is_system\": False, \"import_name\": \"googletrans\", \"pip_name\": \"googletrans\", \"version\": \"4.0.0-rc1\", \"install_cmd\": None, \"check_cmd\": None, \"install_cmds\": []},\n",
        "    {\"name\": \"langchain\", \"is_system\": False, \"import_name\": \"langchain\", \"pip_name\": \"langchain\", \"version\": None, \"install_cmd\": None, \"check_cmd\": None, \"install_cmds\": []},\n",
        "    {\"name\": \"langchain_community\", \"is_system\": False, \"import_name\": \"langchain_community\", \"pip_name\": \"langchain-community\", \"version\": None, \"install_cmd\": None, \"check_cmd\": None, \"install_cmds\": []},\n",
        "    {\"name\": \"openai\", \"is_system\": False, \"import_name\": \"openai\", \"pip_name\": \"openai\", \"version\": None, \"install_cmd\": None, \"check_cmd\": None, \"install_cmds\": []},\n",
        "    {\"name\": \"langchain_openai\", \"is_system\": False, \"import_name\": \"langchain_openai\", \"pip_name\": \"langchain-openai\", \"version\": None, \"install_cmd\": None, \"check_cmd\": None, \"install_cmds\": []},\n",
        "    {\"name\": \"httpx\", \"is_system\": False, \"import_name\": \"httpx\", \"pip_name\": \"httpx\", \"version\": \"0.23.3\", \"install_cmd\": None, \"check_cmd\": None, \"install_cmds\": []}\n",
        "]\n",
        "\n",
        "\n",
        "\n",
        "# Ejecuta la función para cada paquete\n",
        "for pkg in packages:\n",
        "    ini_install_libraries(pkg)\n"
      ],
      "metadata": {
        "id": "eQoX3eAX9SJY"
      },
      "execution_count": null,
      "outputs": []
    },
    {
      "cell_type": "code",
      "source": [
        "# @title IMPORTACIÓN DE LIBRERÍAS DPM\n",
        "import sys\n",
        "import os\n",
        "import importlib\n",
        "import datetime\n",
        "import inspect\n",
        "import pandas as pd\n",
        "\n",
        "\n",
        "\n",
        "# Configuración para importar librerías personalizadas\n",
        "config = [\n",
        "    {\n",
        "        \"module_host\": \"github\",\n",
        "        # Se utiliza la URL raw para obtener el contenido real del archivo\n",
        "        \"module_path\": \"https://raw.githubusercontent.com/DavidP0011/utils/main/dpm_tables.py\",\n",
        "        \"selected_functions_list\": []\n",
        "    },\n",
        "    {\n",
        "        \"module_host\": \"github\",\n",
        "        # Se utiliza la URL raw para obtener el contenido real del archivo\n",
        "        \"module_path\": \"https://raw.githubusercontent.com/DavidP0011/utils/main/dpm_GCP_utils.py\",\n",
        "        \"selected_functions_list\": []\n",
        "    },\n",
        "    {\n",
        "        \"module_host\": \"github\",\n",
        "        \"module_path\": \"https://raw.githubusercontent.com/DavidP0011/utils/main/dpm_apps_utils.py\",\n",
        "        \"selected_functions_list\": []\n",
        "    }\n",
        "]\n",
        "\n",
        "# Cargar las librerías personalizadas\n",
        "ini_load_dpm_libs(config)\n"
      ],
      "metadata": {
        "id": "ExZnlgxzN3hT"
      },
      "execution_count": null,
      "outputs": []
    },
    {
      "cell_type": "markdown",
      "source": [
        "## GBQ DATASETS SCHEMA"
      ],
      "metadata": {
        "id": "Teu_Q7OxO5nN"
      }
    },
    {
      "cell_type": "code",
      "source": [
        "# @title GBQ INFO GLOBAL\n",
        "\n",
        "\n",
        "# Configuración\n",
        "params_dic = {\n",
        "    \"spreadsheet_source_table_id\": \"1aJCGTJtDu_ODqBc4zUcrpQ-q6PE_HN0rO4mwYMIhCXw\",\n",
        "    \"spreadsheet_source_table_worksheet_name\": \"DATA\",\n",
        "\n",
        "    \"ini_environment_identificated\": ini_environment_identificated,\n",
        "    \"json_keyfile_GCP_secret_id\": GCP_json_keyfile_GCP_secret_id,\n",
        "    \"json_keyfile_colab\": GCP_json_keyfile_colab\n",
        "}\n",
        "\n",
        "\n",
        "\n",
        "full_info_from_GBQ_df = table_various_sources_to_DF(params_dic)\n",
        "display(full_info_from_GBQ_df)"
      ],
      "metadata": {
        "id": "6rFSqt23O7ft"
      },
      "execution_count": null,
      "outputs": []
    },
    {
      "cell_type": "code",
      "source": [
        "# @title GBQ DATASETS\n",
        "print(\"Datasets disponibles:\\n\")\n",
        "for dataset in full_info_from_GBQ_df['dataset_id'].unique():\n",
        "    print(f\"{dataset}\")"
      ],
      "metadata": {
        "id": "zT0CjPsKO9Tt"
      },
      "execution_count": null,
      "outputs": []
    },
    {
      "cell_type": "markdown",
      "metadata": {
        "id": "PjCHetu3qgUD"
      },
      "source": [
        "# EJECUCIONES"
      ]
    },
    {
      "cell_type": "code",
      "source": [
        "# @title OBTENCION DF CON RUTAS\n",
        "\n",
        "\n",
        "# Configuración\n",
        "config = {\n",
        "    \"spreadsheet_source_table_id\": \"1EEHwPEf6fWckLAEo37HYd7eOoaAp7siiZyDxy5MFaa8\",\n",
        "    \"spreadsheet_source_table_worksheet_name\": \"ANIMACION\",\n",
        "\n",
        "    \"ini_environment_identificated\": ini_environment_identificated,\n",
        "    \"json_keyfile_local\": GCP_json_keyfile_local,\n",
        "    \"json_keyfile_colab\": GCP_json_keyfile_colab,\n",
        "    \"json_keyfile_GCP_secret_id\": GCP_json_keyfile_GCP_secret_id,\n",
        "}\n",
        "\n",
        "df = table_various_sources_to_DF(config)\n",
        "\n",
        "# display(df)\n",
        "\n",
        "\n",
        "# Unir todas las columnas de 'transcription_part_*' en una única columna\n",
        "df_sin_parts = df.copy()\n",
        "\n",
        "transcription_columns = [col for col in df_sin_parts.columns if col.startswith(\"transcription_part_\")]\n",
        "df_sin_parts[\"transcription\"] = df_sin_parts[transcription_columns].apply(lambda row: \" \".join(row.dropna().astype(str)), axis=1)\n",
        "\n",
        "# Unir todas las columnas de 'transcription_seg_part_*' en una única columna\n",
        "transcription_seg_columns = [col for col in df_sin_parts.columns if col.startswith(\"transcription_seg_part_\")]\n",
        "df_sin_parts[\"transcription_seg\"] = df_sin_parts[transcription_seg_columns].apply(lambda row: \" \".join(row.dropna().astype(str)), axis=1)\n",
        "\n",
        "# Eliminar las columnas que contienen \"part\" en su nombre\n",
        "columns_to_drop = transcription_columns + transcription_seg_columns\n",
        "df_sin_parts = df_sin_parts.drop(columns=columns_to_drop)\n",
        "\n",
        "df_sin_parts.info()\n",
        "df_sin_parts"
      ],
      "metadata": {
        "id": "oQucvT3bG0gj"
      },
      "execution_count": null,
      "outputs": []
    },
    {
      "cell_type": "code",
      "source": [
        "def LLM_process_text(params: dict) -> \"pd.DataFrame\":\n",
        "    \"\"\"\n",
        "    Procesa filas de un DataFrame (source_table_df) utilizando un modelo LLM según el prompt proporcionado.\n",
        "\n",
        "    El comportamiento de la función es de propósito general y dependerá del prompt descargado desde GitHub.\n",
        "    Cada fila del DataFrame debe incluir, al menos, una columna que contenga el contenido a procesar.\n",
        "    El nombre de dicha columna se especifica en \"source_table_field_name\".\n",
        "\n",
        "    La memoria conversacional se configura mediante ConversationBufferWindowMemory para mantener solo\n",
        "    las últimas N interacciones. Ejemplo de configuración:\n",
        "        {\n",
        "            \"return_messages\": False,   # Si se retornarán los mensajes completos o solo el texto concatenado.\n",
        "            \"human_prefix\": \"Usuario\",   # Prefijo para los mensajes del usuario.\n",
        "            \"ai_prefix\": \"Asistente\",     # Prefijo para los mensajes del asistente.\n",
        "            \"memory_key\": \"history\",      # Clave para almacenar el historial de la conversación.\n",
        "            \"k\": 5                      # Número de interacciones recientes a conservar.\n",
        "        }\n",
        "\n",
        "    La autenticación se realiza dinámicamente según el entorno de ejecución utilizando:\n",
        "        - ini_environment_identificated: (\"LOCAL\", \"COLAB\", \"COLAB_ENTERPRISE\" o un project_id).\n",
        "        - json_keyfile_local: Credencial para entornos LOCAL.\n",
        "        - json_keyfile_colab: Credencial para entornos COLAB.\n",
        "        - json_keyfile_GCP_secret_id: Credencial para entornos GCP.\n",
        "\n",
        "    Args:\n",
        "        params (dict):\n",
        "            - source_table_df (pandas.DataFrame): DataFrame con los datos de entrada.\n",
        "            - source_table_field_name (str): Nombre de la columna que contiene el texto a procesar.\n",
        "            - system_prompt (str): URL del Markdown en GitHub con el prompt.\n",
        "            - LLM_API_key (str): Clave de API del LLM obtenida a través de GCP Secret Manager.\n",
        "            - model_name (str, opcional): Nombre del modelo a utilizar (default: \"gpt-4\").\n",
        "            - source_table_row_range (str, opcional): Rango de filas a procesar (ej: \"all\", \"1\", \"1-10\"; default: \"all\").\n",
        "            - temperature (float, opcional): Valor de temperatura para el modelo LLM (default: 0.7).\n",
        "            - ConversationBufferMemory_params (dict, opcional): Parámetros para configurar la memoria conversacional.\n",
        "            - ini_environment_identificated (str): Entorno de ejecución (\"LOCAL\", \"COLAB\", \"COLAB_ENTERPRISE\" o un project_id).\n",
        "            - json_keyfile_local (str): Credencial para entornos LOCAL.\n",
        "            - json_keyfile_colab (str): Credencial para entornos COLAB.\n",
        "            - json_keyfile_GCP_secret_id (str): Credencial para entornos GCP.\n",
        "\n",
        "    Returns:\n",
        "        pandas.DataFrame: DataFrame con la columna \"summary\" que contiene los resultados procesados.\n",
        "\n",
        "    Raises:\n",
        "        ValueError: Si faltan parámetros esenciales o el DataFrame es inválido/está vacío, o si no se puede obtener el prompt.\n",
        "    \"\"\"\n",
        "    import time\n",
        "    import pandas as pd\n",
        "    import requests\n",
        "    from langchain_openai import ChatOpenAI\n",
        "    from langchain.prompts import SystemMessagePromptTemplate, HumanMessagePromptTemplate, ChatPromptTemplate\n",
        "    from langchain.chains import LLMChain\n",
        "    from langchain.memory import ConversationBufferWindowMemory\n",
        "\n",
        "    # ---------------------------\n",
        "    # Autenticación dinámica según el entorno\n",
        "    # ---------------------------\n",
        "    ini_environment_identificated = params.get(\"ini_environment_identificated\")\n",
        "    json_keyfile_local = params.get(\"json_keyfile_local\")\n",
        "    json_keyfile_colab = params.get(\"json_keyfile_colab\")\n",
        "    json_keyfile_GCP_secret_id = params.get(\"json_keyfile_GCP_secret_id\")\n",
        "\n",
        "    if ini_environment_identificated == \"LOCAL\":\n",
        "        print(\"[AUTH INFO ℹ️] Autenticación utilizando json_keyfile_local\", flush=True)\n",
        "        # Implementar carga de credenciales locales aquí.\n",
        "    elif ini_environment_identificated == \"COLAB\":\n",
        "        print(\"[AUTH INFO ℹ️] Autenticación utilizando json_keyfile_colab\", flush=True)\n",
        "        # Implementar carga de credenciales para Colab aquí.\n",
        "    elif ini_environment_identificated == \"COLAB_ENTERPRISE\":\n",
        "        print(\"[AUTH INFO ℹ️] Autenticación utilizando json_keyfile_GCP_secret_id\", flush=True)\n",
        "        # Implementar autenticación con Secret Manager para entornos GCP.\n",
        "    else:\n",
        "        print(\"[AUTH WARNING ⚠️] Entorno no reconocido, se procederá sin autenticación específica.\", flush=True)\n",
        "\n",
        "    # ---------------------------\n",
        "    # Validación de parámetros esenciales\n",
        "    # ---------------------------\n",
        "    source_table_df = params.get(\"source_table_df\")\n",
        "    source_table_field_name = params.get(\"source_table_field_name\")\n",
        "    system_prompt_url = params.get(\"system_prompt\")\n",
        "    LLM_API_key = params.get(\"LLM_API_key\")\n",
        "    model_name = params.get(\"model_name\", \"gpt-4\")\n",
        "    source_table_row_range = params.get(\"source_table_row_range\", \"all\")\n",
        "    temperature = params.get(\"temperature\", 0.7)\n",
        "    ConversationBufferMemory_params = params.get(\"ConversationBufferMemory_params\", {})\n",
        "\n",
        "    if not all([source_table_df is not None, source_table_field_name, system_prompt_url, LLM_API_key]):\n",
        "        raise ValueError(\"[VALIDATION [ERROR ❌]] Faltan parámetros esenciales en 'params'.\")\n",
        "\n",
        "    if not isinstance(source_table_df, pd.DataFrame) or source_table_df.empty:\n",
        "        raise ValueError(\"[VALIDATION [ERROR ❌]] El DataFrame de entrada está vacío o no es válido.\")\n",
        "\n",
        "    # Descargar el contenido del system_prompt desde GitHub\n",
        "    response = requests.get(system_prompt_url)\n",
        "    if response.status_code != 200:\n",
        "        raise ValueError(f\"[VALIDATION [ERROR ❌]] No se pudo obtener el system_prompt desde {system_prompt_url}. Código de estado: {response.status_code}\")\n",
        "    system_prompt_text = response.text\n",
        "\n",
        "    # Convertir el DataFrame a una lista de registros (diccionarios)\n",
        "    all_data = source_table_df.to_dict(orient=\"records\")\n",
        "    if source_table_row_range.lower() == \"all\":\n",
        "        data = all_data\n",
        "    elif \"-\" in source_table_row_range:\n",
        "        try:\n",
        "            start_row, end_row = map(int, source_table_row_range.split(\"-\"))\n",
        "            data = all_data[start_row - 1:end_row]\n",
        "        except Exception as e:\n",
        "            raise ValueError(f\"[VALIDATION [ERROR ❌]] Formato de 'source_table_row_range' inválido: {e}\")\n",
        "    else:\n",
        "        try:\n",
        "            index = int(source_table_row_range) - 1\n",
        "            data = [all_data[index]]\n",
        "        except Exception as e:\n",
        "            raise ValueError(f\"[VALIDATION [ERROR ❌]] Formato de 'source_table_row_range' inválido: {e}\")\n",
        "\n",
        "    # ---------------------------\n",
        "    # Configuración del modelo LLM\n",
        "    # ---------------------------\n",
        "    llm = ChatOpenAI(\n",
        "        api_key=LLM_API_key,\n",
        "        model_name=model_name,\n",
        "        temperature=temperature\n",
        "    )\n",
        "\n",
        "    # Configuración de los prompts: se utiliza el contenido descargado desde GitHub\n",
        "    system_message = SystemMessagePromptTemplate.from_template(system_prompt_text)\n",
        "    human_message = HumanMessagePromptTemplate.from_template(\n",
        "        \"Aquí tienes el contenido (texto completo):\\n{content}\"\n",
        "    )\n",
        "    chat_prompt = ChatPromptTemplate.from_messages([system_message, human_message])\n",
        "\n",
        "    # Crear la memoria conversacional usando ConversationBufferWindowMemory\n",
        "    memory = ConversationBufferWindowMemory(**ConversationBufferMemory_params)\n",
        "    chain = LLMChain(llm=llm, prompt=chat_prompt, memory=memory)\n",
        "\n",
        "    # ---------------------------\n",
        "    # Procesamiento de los datos\n",
        "    # ---------------------------\n",
        "    results = []\n",
        "    for idx, row in enumerate(data):\n",
        "        start_time = time.time()\n",
        "        content = row.get(source_table_field_name, \"\")\n",
        "        print(f\"\\n[INFO] Procesando registro {idx+1}\", flush=True)\n",
        "\n",
        "        if content and content.strip():\n",
        "            print(f\"[INFO] Longitud del contenido: {len(content)} caracteres\", flush=True)\n",
        "            response = chain.run(content=content)\n",
        "            result_text = response.strip()\n",
        "\n",
        "            process_duration = time.time() - start_time\n",
        "            print(f\"[SUCCESS] Resultado generado en {process_duration:.2f} segundos:\", flush=True)\n",
        "            print(f\"[RESULT] {result_text}\", flush=True)\n",
        "\n",
        "            results.append({\n",
        "                \"summary\": result_text\n",
        "            })\n",
        "        else:\n",
        "            print(f\"[WARNING] Contenido vacío en el registro {idx+1}\", flush=True)\n",
        "\n",
        "    output_df = pd.DataFrame(results)\n",
        "    print(\"\\n[INFO] Resultados procesados exitosamente.\", flush=True)\n",
        "    return output_df\n"
      ],
      "metadata": {
        "id": "Q7xKKhTWp6qe"
      },
      "execution_count": 41,
      "outputs": []
    },
    {
      "cell_type": "code",
      "source": [
        "# @title EJECUTAR PROMPT DE LIMPIEZA\n",
        "\n",
        "# Configuración de la memoria conversacional (mantiene sólo las últimas 5 interacciones)\n",
        "ConversationBufferMemory_params = {\n",
        "    \"return_messages\": False,   # Retorna solo el texto concatenado\n",
        "    \"human_prefix\": \"Usuario\",\n",
        "    \"ai_prefix\": \"Asistente\",\n",
        "    \"memory_key\": \"history\",\n",
        "    \"k\": 5                      # Mantener en memoria sólo las últimas 5 interacciones\n",
        "}\n",
        "\n",
        "# Preparar el diccionario de parámetros\n",
        "params = {\n",
        "    \"ini_environment_identificated\": ini_environment_identificated,  # Ej: \"COLAB_ENTERPRISE\"\n",
        "    \"json_keyfile_local\": GCP_json_keyfile_local,                    # Ruta a credenciales locales\n",
        "    \"json_keyfile_colab\": GCP_json_keyfile_colab,                      # Ruta a credenciales para Colab\n",
        "    \"json_keyfile_GCP_secret_id\": GCP_json_keyfile_GCP_secret_id,      # Identificador para GCP Secret Manager\n",
        "\n",
        "    \"source_table_df\": df_sin_parts,                                   # DataFrame con el contenido a procesar\n",
        "    \"source_table_field_name\": \"transcription\",                        # Columna que contiene el texto a procesar\n",
        "    \"source_table_row_range\": \"1-3\",                                   # Opciones: \"all\", \"1\", \"1-10\", etc.\n",
        "\n",
        "    \"LLM_API_key\": \"OpenAI_API_key\",                                     # Clave de API obtenida desde GCP Secret Manager\n",
        "    \"model_name\": \"chatgpt-4o-latest\",                                 # Ejemplo: \"chatgpt-4o-latest\"\n",
        "    \"ConversationBufferMemory_params\": ConversationBufferMemory_params,  # Configuración de la memoria\n",
        "\n",
        "    \"system_prompt\": \"https://github.com/DavidP0011/mocadi/blob/main/prompt_transcription.md\",  # URL del prompt en GitHub\n",
        "    \"temperature\": 0.7,                                                # Valor de temperatura para el modelo\n",
        "}\n",
        "\n",
        "# Ejecutar la función y obtener el DataFrame con los resultados\n",
        "result_df = LLM_process_text(params)\n",
        "print(result_df)\n"
      ],
      "metadata": {
        "colab": {
          "base_uri": "https://localhost:8080/",
          "height": 538
        },
        "id": "cIM8T3eEtLog",
        "outputId": "93d4c668-cc5e-4e3a-cade-1032fc265ea3"
      },
      "execution_count": 48,
      "outputs": [
        {
          "output_type": "error",
          "ename": "ImportError",
          "evalue": "cannot import name 'BaseTransport' from 'httpx' (/usr/local/lib/python3.11/dist-packages/httpx/__init__.py)",
          "traceback": [
            "\u001b[0;31m---------------------------------------------------------------------------\u001b[0m",
            "\u001b[0;31mImportError\u001b[0m                               Traceback (most recent call last)",
            "\u001b[0;32m<ipython-input-48-9dee689e6bea>\u001b[0m in \u001b[0;36m<cell line: 0>\u001b[0;34m()\u001b[0m\n\u001b[1;32m     30\u001b[0m \u001b[0;34m\u001b[0m\u001b[0m\n\u001b[1;32m     31\u001b[0m \u001b[0;31m# Ejecutar la función y obtener el DataFrame con los resultados\u001b[0m\u001b[0;34m\u001b[0m\u001b[0;34m\u001b[0m\u001b[0m\n\u001b[0;32m---> 32\u001b[0;31m \u001b[0mresult_df\u001b[0m \u001b[0;34m=\u001b[0m \u001b[0mLLM_process_text\u001b[0m\u001b[0;34m(\u001b[0m\u001b[0mparams\u001b[0m\u001b[0;34m)\u001b[0m\u001b[0;34m\u001b[0m\u001b[0;34m\u001b[0m\u001b[0m\n\u001b[0m\u001b[1;32m     33\u001b[0m \u001b[0mprint\u001b[0m\u001b[0;34m(\u001b[0m\u001b[0mresult_df\u001b[0m\u001b[0;34m)\u001b[0m\u001b[0;34m\u001b[0m\u001b[0;34m\u001b[0m\u001b[0m\n",
            "\u001b[0;32m<ipython-input-41-adad27ea3d6e>\u001b[0m in \u001b[0;36mLLM_process_text\u001b[0;34m(params)\u001b[0m\n\u001b[1;32m     47\u001b[0m     \u001b[0;32mimport\u001b[0m \u001b[0mpandas\u001b[0m \u001b[0;32mas\u001b[0m \u001b[0mpd\u001b[0m\u001b[0;34m\u001b[0m\u001b[0;34m\u001b[0m\u001b[0m\n\u001b[1;32m     48\u001b[0m     \u001b[0;32mimport\u001b[0m \u001b[0mrequests\u001b[0m\u001b[0;34m\u001b[0m\u001b[0;34m\u001b[0m\u001b[0m\n\u001b[0;32m---> 49\u001b[0;31m     \u001b[0;32mfrom\u001b[0m \u001b[0mlangchain_openai\u001b[0m \u001b[0;32mimport\u001b[0m \u001b[0mChatOpenAI\u001b[0m\u001b[0;34m\u001b[0m\u001b[0;34m\u001b[0m\u001b[0m\n\u001b[0m\u001b[1;32m     50\u001b[0m     \u001b[0;32mfrom\u001b[0m \u001b[0mlangchain\u001b[0m\u001b[0;34m.\u001b[0m\u001b[0mprompts\u001b[0m \u001b[0;32mimport\u001b[0m \u001b[0mSystemMessagePromptTemplate\u001b[0m\u001b[0;34m,\u001b[0m \u001b[0mHumanMessagePromptTemplate\u001b[0m\u001b[0;34m,\u001b[0m \u001b[0mChatPromptTemplate\u001b[0m\u001b[0;34m\u001b[0m\u001b[0;34m\u001b[0m\u001b[0m\n\u001b[1;32m     51\u001b[0m     \u001b[0;32mfrom\u001b[0m \u001b[0mlangchain\u001b[0m\u001b[0;34m.\u001b[0m\u001b[0mchains\u001b[0m \u001b[0;32mimport\u001b[0m \u001b[0mLLMChain\u001b[0m\u001b[0;34m\u001b[0m\u001b[0;34m\u001b[0m\u001b[0m\n",
            "\u001b[0;32m/usr/local/lib/python3.11/dist-packages/langchain_openai/__init__.py\u001b[0m in \u001b[0;36m<module>\u001b[0;34m\u001b[0m\n\u001b[0;32m----> 1\u001b[0;31m \u001b[0;32mfrom\u001b[0m \u001b[0mlangchain_openai\u001b[0m\u001b[0;34m.\u001b[0m\u001b[0mchat_models\u001b[0m \u001b[0;32mimport\u001b[0m \u001b[0mAzureChatOpenAI\u001b[0m\u001b[0;34m,\u001b[0m \u001b[0mChatOpenAI\u001b[0m\u001b[0;34m\u001b[0m\u001b[0;34m\u001b[0m\u001b[0m\n\u001b[0m\u001b[1;32m      2\u001b[0m \u001b[0;32mfrom\u001b[0m \u001b[0mlangchain_openai\u001b[0m\u001b[0;34m.\u001b[0m\u001b[0membeddings\u001b[0m \u001b[0;32mimport\u001b[0m \u001b[0mAzureOpenAIEmbeddings\u001b[0m\u001b[0;34m,\u001b[0m \u001b[0mOpenAIEmbeddings\u001b[0m\u001b[0;34m\u001b[0m\u001b[0;34m\u001b[0m\u001b[0m\n\u001b[1;32m      3\u001b[0m \u001b[0;32mfrom\u001b[0m \u001b[0mlangchain_openai\u001b[0m\u001b[0;34m.\u001b[0m\u001b[0mllms\u001b[0m \u001b[0;32mimport\u001b[0m \u001b[0mAzureOpenAI\u001b[0m\u001b[0;34m,\u001b[0m \u001b[0mOpenAI\u001b[0m\u001b[0;34m\u001b[0m\u001b[0;34m\u001b[0m\u001b[0m\n\u001b[1;32m      4\u001b[0m \u001b[0;34m\u001b[0m\u001b[0m\n\u001b[1;32m      5\u001b[0m __all__ = [\n",
            "\u001b[0;32m/usr/local/lib/python3.11/dist-packages/langchain_openai/chat_models/__init__.py\u001b[0m in \u001b[0;36m<module>\u001b[0;34m\u001b[0m\n\u001b[0;32m----> 1\u001b[0;31m \u001b[0;32mfrom\u001b[0m \u001b[0mlangchain_openai\u001b[0m\u001b[0;34m.\u001b[0m\u001b[0mchat_models\u001b[0m\u001b[0;34m.\u001b[0m\u001b[0mazure\u001b[0m \u001b[0;32mimport\u001b[0m \u001b[0mAzureChatOpenAI\u001b[0m\u001b[0;34m\u001b[0m\u001b[0;34m\u001b[0m\u001b[0m\n\u001b[0m\u001b[1;32m      2\u001b[0m \u001b[0;32mfrom\u001b[0m \u001b[0mlangchain_openai\u001b[0m\u001b[0;34m.\u001b[0m\u001b[0mchat_models\u001b[0m\u001b[0;34m.\u001b[0m\u001b[0mbase\u001b[0m \u001b[0;32mimport\u001b[0m \u001b[0mChatOpenAI\u001b[0m\u001b[0;34m\u001b[0m\u001b[0;34m\u001b[0m\u001b[0m\n\u001b[1;32m      3\u001b[0m \u001b[0;34m\u001b[0m\u001b[0m\n\u001b[1;32m      4\u001b[0m \u001b[0m__all__\u001b[0m \u001b[0;34m=\u001b[0m \u001b[0;34m[\u001b[0m\u001b[0;34m\"ChatOpenAI\"\u001b[0m\u001b[0;34m,\u001b[0m \u001b[0;34m\"AzureChatOpenAI\"\u001b[0m\u001b[0;34m]\u001b[0m\u001b[0;34m\u001b[0m\u001b[0;34m\u001b[0m\u001b[0m\n",
            "\u001b[0;32m/usr/local/lib/python3.11/dist-packages/langchain_openai/chat_models/azure.py\u001b[0m in \u001b[0;36m<module>\u001b[0;34m\u001b[0m\n\u001b[1;32m     18\u001b[0m )\n\u001b[1;32m     19\u001b[0m \u001b[0;34m\u001b[0m\u001b[0m\n\u001b[0;32m---> 20\u001b[0;31m \u001b[0;32mimport\u001b[0m \u001b[0mopenai\u001b[0m\u001b[0;34m\u001b[0m\u001b[0;34m\u001b[0m\u001b[0m\n\u001b[0m\u001b[1;32m     21\u001b[0m \u001b[0;32mfrom\u001b[0m \u001b[0mlangchain_core\u001b[0m\u001b[0;34m.\u001b[0m\u001b[0mlanguage_models\u001b[0m \u001b[0;32mimport\u001b[0m \u001b[0mLanguageModelInput\u001b[0m\u001b[0;34m\u001b[0m\u001b[0;34m\u001b[0m\u001b[0m\n\u001b[1;32m     22\u001b[0m \u001b[0;32mfrom\u001b[0m \u001b[0mlangchain_core\u001b[0m\u001b[0;34m.\u001b[0m\u001b[0mlanguage_models\u001b[0m\u001b[0;34m.\u001b[0m\u001b[0mchat_models\u001b[0m \u001b[0;32mimport\u001b[0m \u001b[0mLangSmithParams\u001b[0m\u001b[0;34m\u001b[0m\u001b[0;34m\u001b[0m\u001b[0m\n",
            "\u001b[0;32m/usr/local/lib/python3.11/dist-packages/openai/__init__.py\u001b[0m in \u001b[0;36m<module>\u001b[0;34m\u001b[0m\n\u001b[1;32m      6\u001b[0m \u001b[0;32mfrom\u001b[0m \u001b[0mtyping_extensions\u001b[0m \u001b[0;32mimport\u001b[0m \u001b[0moverride\u001b[0m\u001b[0;34m\u001b[0m\u001b[0;34m\u001b[0m\u001b[0m\n\u001b[1;32m      7\u001b[0m \u001b[0;34m\u001b[0m\u001b[0m\n\u001b[0;32m----> 8\u001b[0;31m \u001b[0;32mfrom\u001b[0m \u001b[0;34m.\u001b[0m \u001b[0;32mimport\u001b[0m \u001b[0mtypes\u001b[0m\u001b[0;34m\u001b[0m\u001b[0;34m\u001b[0m\u001b[0m\n\u001b[0m\u001b[1;32m      9\u001b[0m \u001b[0;32mfrom\u001b[0m \u001b[0;34m.\u001b[0m\u001b[0m_types\u001b[0m \u001b[0;32mimport\u001b[0m \u001b[0mNOT_GIVEN\u001b[0m\u001b[0;34m,\u001b[0m \u001b[0mOmit\u001b[0m\u001b[0;34m,\u001b[0m \u001b[0mNoneType\u001b[0m\u001b[0;34m,\u001b[0m \u001b[0mNotGiven\u001b[0m\u001b[0;34m,\u001b[0m \u001b[0mTransport\u001b[0m\u001b[0;34m,\u001b[0m \u001b[0mProxiesTypes\u001b[0m\u001b[0;34m\u001b[0m\u001b[0;34m\u001b[0m\u001b[0m\n\u001b[1;32m     10\u001b[0m \u001b[0;32mfrom\u001b[0m \u001b[0;34m.\u001b[0m\u001b[0m_utils\u001b[0m \u001b[0;32mimport\u001b[0m \u001b[0mfile_from_path\u001b[0m\u001b[0;34m\u001b[0m\u001b[0;34m\u001b[0m\u001b[0m\n",
            "\u001b[0;32m/usr/local/lib/python3.11/dist-packages/openai/types/__init__.py\u001b[0m in \u001b[0;36m<module>\u001b[0;34m\u001b[0m\n\u001b[1;32m      3\u001b[0m \u001b[0;32mfrom\u001b[0m \u001b[0m__future__\u001b[0m \u001b[0;32mimport\u001b[0m \u001b[0mannotations\u001b[0m\u001b[0;34m\u001b[0m\u001b[0;34m\u001b[0m\u001b[0m\n\u001b[1;32m      4\u001b[0m \u001b[0;34m\u001b[0m\u001b[0m\n\u001b[0;32m----> 5\u001b[0;31m \u001b[0;32mfrom\u001b[0m \u001b[0;34m.\u001b[0m\u001b[0mbatch\u001b[0m \u001b[0;32mimport\u001b[0m \u001b[0mBatch\u001b[0m \u001b[0;32mas\u001b[0m \u001b[0mBatch\u001b[0m\u001b[0;34m\u001b[0m\u001b[0;34m\u001b[0m\u001b[0m\n\u001b[0m\u001b[1;32m      6\u001b[0m \u001b[0;32mfrom\u001b[0m \u001b[0;34m.\u001b[0m\u001b[0mimage\u001b[0m \u001b[0;32mimport\u001b[0m \u001b[0mImage\u001b[0m \u001b[0;32mas\u001b[0m \u001b[0mImage\u001b[0m\u001b[0;34m\u001b[0m\u001b[0;34m\u001b[0m\u001b[0m\n\u001b[1;32m      7\u001b[0m \u001b[0;32mfrom\u001b[0m \u001b[0;34m.\u001b[0m\u001b[0mmodel\u001b[0m \u001b[0;32mimport\u001b[0m \u001b[0mModel\u001b[0m \u001b[0;32mas\u001b[0m \u001b[0mModel\u001b[0m\u001b[0;34m\u001b[0m\u001b[0;34m\u001b[0m\u001b[0m\n",
            "\u001b[0;32m/usr/local/lib/python3.11/dist-packages/openai/types/batch.py\u001b[0m in \u001b[0;36m<module>\u001b[0;34m\u001b[0m\n\u001b[1;32m      4\u001b[0m \u001b[0;32mfrom\u001b[0m \u001b[0mtyping_extensions\u001b[0m \u001b[0;32mimport\u001b[0m \u001b[0mLiteral\u001b[0m\u001b[0;34m\u001b[0m\u001b[0;34m\u001b[0m\u001b[0m\n\u001b[1;32m      5\u001b[0m \u001b[0;34m\u001b[0m\u001b[0m\n\u001b[0;32m----> 6\u001b[0;31m \u001b[0;32mfrom\u001b[0m \u001b[0;34m.\u001b[0m\u001b[0;34m.\u001b[0m\u001b[0m_models\u001b[0m \u001b[0;32mimport\u001b[0m \u001b[0mBaseModel\u001b[0m\u001b[0;34m\u001b[0m\u001b[0;34m\u001b[0m\u001b[0m\n\u001b[0m\u001b[1;32m      7\u001b[0m \u001b[0;32mfrom\u001b[0m \u001b[0;34m.\u001b[0m\u001b[0mbatch_error\u001b[0m \u001b[0;32mimport\u001b[0m \u001b[0mBatchError\u001b[0m\u001b[0;34m\u001b[0m\u001b[0;34m\u001b[0m\u001b[0m\n\u001b[1;32m      8\u001b[0m \u001b[0;32mfrom\u001b[0m \u001b[0;34m.\u001b[0m\u001b[0mshared\u001b[0m\u001b[0;34m.\u001b[0m\u001b[0mmetadata\u001b[0m \u001b[0;32mimport\u001b[0m \u001b[0mMetadata\u001b[0m\u001b[0;34m\u001b[0m\u001b[0;34m\u001b[0m\u001b[0m\n",
            "\u001b[0;32m/usr/local/lib/python3.11/dist-packages/openai/_models.py\u001b[0m in \u001b[0;36m<module>\u001b[0;34m\u001b[0m\n\u001b[1;32m     24\u001b[0m \u001b[0;32mfrom\u001b[0m \u001b[0mpydantic\u001b[0m\u001b[0;34m.\u001b[0m\u001b[0mfields\u001b[0m \u001b[0;32mimport\u001b[0m \u001b[0mFieldInfo\u001b[0m\u001b[0;34m\u001b[0m\u001b[0;34m\u001b[0m\u001b[0m\n\u001b[1;32m     25\u001b[0m \u001b[0;34m\u001b[0m\u001b[0m\n\u001b[0;32m---> 26\u001b[0;31m from ._types import (\n\u001b[0m\u001b[1;32m     27\u001b[0m     \u001b[0mBody\u001b[0m\u001b[0;34m,\u001b[0m\u001b[0;34m\u001b[0m\u001b[0;34m\u001b[0m\u001b[0m\n\u001b[1;32m     28\u001b[0m     \u001b[0mIncEx\u001b[0m\u001b[0;34m,\u001b[0m\u001b[0;34m\u001b[0m\u001b[0;34m\u001b[0m\u001b[0m\n",
            "\u001b[0;32m/usr/local/lib/python3.11/dist-packages/openai/_types.py\u001b[0m in \u001b[0;36m<module>\u001b[0;34m\u001b[0m\n\u001b[1;32m     21\u001b[0m \u001b[0;32mimport\u001b[0m \u001b[0mhttpx\u001b[0m\u001b[0;34m\u001b[0m\u001b[0;34m\u001b[0m\u001b[0m\n\u001b[1;32m     22\u001b[0m \u001b[0;32mimport\u001b[0m \u001b[0mpydantic\u001b[0m\u001b[0;34m\u001b[0m\u001b[0;34m\u001b[0m\u001b[0m\n\u001b[0;32m---> 23\u001b[0;31m \u001b[0;32mfrom\u001b[0m \u001b[0mhttpx\u001b[0m \u001b[0;32mimport\u001b[0m \u001b[0mURL\u001b[0m\u001b[0;34m,\u001b[0m \u001b[0mProxy\u001b[0m\u001b[0;34m,\u001b[0m \u001b[0mTimeout\u001b[0m\u001b[0;34m,\u001b[0m \u001b[0mResponse\u001b[0m\u001b[0;34m,\u001b[0m \u001b[0mBaseTransport\u001b[0m\u001b[0;34m,\u001b[0m \u001b[0mAsyncBaseTransport\u001b[0m\u001b[0;34m\u001b[0m\u001b[0;34m\u001b[0m\u001b[0m\n\u001b[0m\u001b[1;32m     24\u001b[0m \u001b[0;34m\u001b[0m\u001b[0m\n\u001b[1;32m     25\u001b[0m \u001b[0;32mif\u001b[0m \u001b[0mTYPE_CHECKING\u001b[0m\u001b[0;34m:\u001b[0m\u001b[0;34m\u001b[0m\u001b[0;34m\u001b[0m\u001b[0m\n",
            "\u001b[0;31mImportError\u001b[0m: cannot import name 'BaseTransport' from 'httpx' (/usr/local/lib/python3.11/dist-packages/httpx/__init__.py)",
            "",
            "\u001b[0;31m---------------------------------------------------------------------------\u001b[0;32m\nNOTE: If your import is failing due to a missing package, you can\nmanually install dependencies using either !pip or !apt.\n\nTo view examples of installing some common dependencies, click the\n\"Open Examples\" button below.\n\u001b[0;31m---------------------------------------------------------------------------\u001b[0m\n"
          ],
          "errorDetails": {
            "actions": [
              {
                "action": "open_url",
                "actionText": "Open Examples",
                "url": "/notebooks/snippets/importing_libraries.ipynb"
              }
            ]
          }
        }
      ]
    }
  ],
  "metadata": {
    "colab": {
      "provenance": [],
      "toc_visible": true,
      "authorship_tag": "ABX9TyOwu1IaZ7vGoVwr+Rac1JlR",
      "include_colab_link": true
    },
    "kernelspec": {
      "display_name": "Python 3",
      "name": "python3"
    },
    "language_info": {
      "name": "python"
    }
  },
  "nbformat": 4,
  "nbformat_minor": 0
}